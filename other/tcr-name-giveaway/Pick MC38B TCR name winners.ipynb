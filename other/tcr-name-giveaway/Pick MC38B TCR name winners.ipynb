{
 "cells": [
  {
   "cell_type": "markdown",
   "metadata": {},
   "source": [
    "# Current time"
   ]
  },
  {
   "cell_type": "code",
   "execution_count": 1,
   "metadata": {},
   "outputs": [
    {
     "name": "stdout",
     "output_type": "stream",
     "text": [
      "Fri Oct 18 15:01:02 EDT 2019\r\n"
     ]
    }
   ],
   "source": [
    "!date"
   ]
  },
  {
   "cell_type": "markdown",
   "metadata": {},
   "source": [
    "# Collect all relevant tweets"
   ]
  },
  {
   "cell_type": "code",
   "execution_count": 2,
   "metadata": {},
   "outputs": [],
   "source": [
    "import json\n",
    "\n",
    "import random\n",
    "random.seed(201910181500)  # Oct 18, 2019 15:00 EST\n",
    "\n",
    "# Load secrets\n",
    "from dotenv import load_dotenv\n",
    "load_dotenv()\n",
    "\n",
    "import os\n",
    "TW_CONSUMER_KEY = os.getenv(\"TW_CONSUMER_KEY\")\n",
    "TW_CONSUMER_SECRET = os.getenv(\"TW_CONSUMER_SECRET\")\n",
    "TW_ACCESS_TOKEN = os.getenv(\"TW_ACCESS_TOKEN\")\n",
    "TW_ACCESS_TOKEN_SECRET = os.getenv(\"TW_ACCESS_TOKEN_SECRET\")\n",
    "\n",
    "# Initiate the API\n",
    "from twarc import Twarc\n",
    "t = Twarc(TW_CONSUMER_KEY, TW_CONSUMER_SECRET, TW_ACCESS_TOKEN, TW_ACCESS_TOKEN_SECRET)"
   ]
  },
  {
   "cell_type": "code",
   "execution_count": 3,
   "metadata": {},
   "outputs": [],
   "source": [
    "# Collect all quotes (RT with comments)\n",
    "all_quotes = [tw for tw in t.search(\"https://twitter.com/armish/status/1183753089637064707\")]\n",
    "\n",
    "# Collect all replies\n",
    "all_replies = [tw for tw in t.replies(t.tweet(\"1183753089637064707\"))]\n",
    "\n",
    "# Merge all\n",
    "all_relevant_tweets = all_quotes + all_replies\n",
    "\n",
    "# Save it\n",
    "with open('20191018_relevant_tweets.json', 'w') as fout:\n",
    "    json.dump(all_relevant_tweets, fout)"
   ]
  },
  {
   "cell_type": "markdown",
   "metadata": {},
   "source": [
    "# Participants"
   ]
  },
  {
   "cell_type": "code",
   "execution_count": 4,
   "metadata": {},
   "outputs": [
    {
     "name": "stdout",
     "output_type": "stream",
     "text": [
      "{'shortwyatt', 'TheNeoantigen', 'minervamaga', 'JaneDoeFutureMD', 'carmonation', 'emekdemir', 'BenjaminGVincen', 'Addgene', 'jamimmunology', 'LesinskiLab', 'AshPMenon', 'ElliotMcAbby', 'muppet_pants', 'agcahamza', 'protocolsIO', 'atorbo', 'antigenomics', 'hiveminer', 'JGriner96', 'uzayligul', 'pinpindapinpin', 'scicommleanna', 'draparente', 'Anabteles', 'HowellJollyBody', 'iskander', 'GI_OncologyHub', 'Galister', 'karadag68', 'StoneEL2', 'KoivistoChris'}\n"
     ]
    }
   ],
   "source": [
    "participant_list = set([tw[\"user\"][\"screen_name\"] for tw in all_relevant_tweets])\n",
    "participant_list.remove(\"armish\")\n",
    "\n",
    "print(participant_list)"
   ]
  },
  {
   "cell_type": "markdown",
   "metadata": {},
   "source": [
    "# Winners"
   ]
  },
  {
   "cell_type": "code",
   "execution_count": 5,
   "metadata": {},
   "outputs": [
    {
     "data": {
      "text/plain": [
       "['iskander', 'JaneDoeFutureMD', 'atorbo', 'BenjaminGVincen']"
      ]
     },
     "execution_count": 5,
     "metadata": {},
     "output_type": "execute_result"
    }
   ],
   "source": [
    "random.choices(sorted(list(participant_list)), k=4)"
   ]
  }
 ],
 "metadata": {
  "kernelspec": {
   "display_name": "Python 3",
   "language": "python",
   "name": "python3"
  },
  "language_info": {
   "codemirror_mode": {
    "name": "ipython",
    "version": 3
   },
   "file_extension": ".py",
   "mimetype": "text/x-python",
   "name": "python",
   "nbconvert_exporter": "python",
   "pygments_lexer": "ipython3",
   "version": "3.7.3"
  }
 },
 "nbformat": 4,
 "nbformat_minor": 2
}
