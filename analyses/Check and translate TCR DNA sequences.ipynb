{
 "cells": [
  {
   "cell_type": "code",
   "execution_count": 1,
   "metadata": {},
   "outputs": [],
   "source": [
    "from Bio import SeqIO"
   ]
  },
  {
   "cell_type": "code",
   "execution_count": 2,
   "metadata": {},
   "outputs": [],
   "source": [
    "nt_records = [rec for rec in SeqIO.parse(\"../data/10X-VDJ-summary.all_nt.fasta\", \"fasta\")]"
   ]
  },
  {
   "cell_type": "code",
   "execution_count": 3,
   "metadata": {},
   "outputs": [
    {
     "data": {
      "text/plain": [
       "SeqRecord(seq=Seq('ATGAGCTGCAGGCTTCTCCTCTATGTTTCCCTATGTCTTGTGGAAACAGCACTC...TCC', SingleLetterAlphabet()), id='30_TRB_CASSPGQGYAEQFF_TGTGCCAGCAGCCCGGGACAGGGTTATGCTGAGCAGTTCTTC', name='30_TRB_CASSPGQGYAEQFF_TGTGCCAGCAGCCCGGGACAGGGTTATGCTGAGCAGTTCTTC', description=' 30_TRB_CASSPGQGYAEQFF_TGTGCCAGCAGCCCGGGACAGGGTTATGCTGAGCAGTTCTTC', dbxrefs=[])"
      ]
     },
     "execution_count": 3,
     "metadata": {},
     "output_type": "execute_result"
    }
   ],
   "source": [
    "nt_record = nt_records[1]\n",
    "nt_record"
   ]
  },
  {
   "cell_type": "code",
   "execution_count": 4,
   "metadata": {},
   "outputs": [],
   "source": [
    "[sid, gene, cdr3_aa, cdr3_nt] = nt_record.id.split(\"_\")"
   ]
  },
  {
   "cell_type": "code",
   "execution_count": 5,
   "metadata": {},
   "outputs": [
    {
     "data": {
      "text/plain": [
       "'TGTGCCAGCAGCCCGGGACAGGGTTATGCTGAGCAGTTCTTC'"
      ]
     },
     "execution_count": 5,
     "metadata": {},
     "output_type": "execute_result"
    }
   ],
   "source": [
    "cdr3_nt"
   ]
  },
  {
   "cell_type": "code",
   "execution_count": 6,
   "metadata": {},
   "outputs": [
    {
     "data": {
      "text/plain": [
       "Seq('ATGAGCTGCAGGCTTCTCCTCTATGTTTCCCTATGTCTTGTGGAAACAGCACTC...TCC', SingleLetterAlphabet())"
      ]
     },
     "execution_count": 6,
     "metadata": {},
     "output_type": "execute_result"
    }
   ],
   "source": [
    "one_seq = nt_record.seq\n",
    "one_seq"
   ]
  },
  {
   "cell_type": "code",
   "execution_count": 7,
   "metadata": {},
   "outputs": [
    {
     "data": {
      "text/plain": [
       "True"
      ]
     },
     "execution_count": 7,
     "metadata": {},
     "output_type": "execute_result"
    }
   ],
   "source": [
    "str(one_seq).find(cdr3_nt) > -1"
   ]
  },
  {
   "cell_type": "code",
   "execution_count": 8,
   "metadata": {},
   "outputs": [
    {
     "data": {
      "text/plain": [
       "Seq('MSCRLLLYVSLCLVETALMNTKITQSPRYLILGRANKSLECEQHLGHNAMYWYK...KNS', ExtendedIUPACProtein())"
      ]
     },
     "execution_count": 8,
     "metadata": {},
     "output_type": "execute_result"
    }
   ],
   "source": [
    "one_aa_seq = one_seq.translate()\n",
    "one_aa_seq"
   ]
  },
  {
   "cell_type": "code",
   "execution_count": 9,
   "metadata": {},
   "outputs": [
    {
     "data": {
      "text/plain": [
       "True"
      ]
     },
     "execution_count": 9,
     "metadata": {},
     "output_type": "execute_result"
    }
   ],
   "source": [
    "str(one_aa_seq).find(cdr3_aa) > -1"
   ]
  },
  {
   "cell_type": "code",
   "execution_count": 10,
   "metadata": {},
   "outputs": [
    {
     "data": {
      "text/plain": [
       "SeqRecord(seq=Seq('ACATCCAGAACCCAGAACCTGCTGTGTACCAGTTAAAAGATCCTCGGTCTCAGG...TCC', SingleLetterAlphabet()), id='Mouse_TRAC', name='Mouse_TRAC', description=' Mouse_TRAC', dbxrefs=[])"
      ]
     },
     "execution_count": 10,
     "metadata": {},
     "output_type": "execute_result"
    }
   ],
   "source": [
    "alpha_constant = next(SeqIO.parse(\"../sequences/mouse.TRAC.dna.fasta\", \"fasta\"))\n",
    "alpha_constant"
   ]
  },
  {
   "cell_type": "code",
   "execution_count": 11,
   "metadata": {},
   "outputs": [
    {
     "data": {
      "text/plain": [
       "SeqRecord(seq=Seq('AGGATCTGAGAAATGTGACTCCACCCAAGGTCTCCTTGTTTGAGCCATCAAAAG...TCC', SingleLetterAlphabet()), id='Mouse_TRBC', name='Mouse_TRBC', description=' Mouse_TRBC', dbxrefs=[])"
      ]
     },
     "execution_count": 11,
     "metadata": {},
     "output_type": "execute_result"
    }
   ],
   "source": [
    "beta_constant = next(SeqIO.parse(\"../sequences/mouse.TRBC.dna.fasta\", \"fasta\"))\n",
    "beta_constant"
   ]
  },
  {
   "cell_type": "code",
   "execution_count": 12,
   "metadata": {},
   "outputs": [
    {
     "data": {
      "text/plain": [
       "19"
      ]
     },
     "execution_count": 12,
     "metadata": {},
     "output_type": "execute_result"
    }
   ],
   "source": [
    "constant_regions = {\n",
    "    'TRA': alpha_constant,\n",
    "    'TRB': beta_constant\n",
    "}\n",
    "\n",
    "def check_and_translate_tcr(nt_record):\n",
    "    [sid, gene, cdr3_aa, cdr3_nt] = nt_record.id.split(\"_\")\n",
    "    \n",
    "    constant_nt = constant_regions[gene]\n",
    "    constant_nt_seq = str(constant_nt.seq)\n",
    "    \n",
    "    nt_seq = str(nt_record.seq)\n",
    "    assert nt_seq.find(cdr3_nt) > -1\n",
    "    assert nt_seq.startswith('ATG')\n",
    "    assert nt_seq.endswith(constant_nt_seq)\n",
    "    \n",
    "    aa_record = nt_record.translate()\n",
    "    aa_seq = str(aa_record.seq)\n",
    "    assert aa_seq.find(cdr3_aa) > -1\n",
    "    assert aa_seq.startswith('M')\n",
    "    assert aa_seq.endswith('S')\n",
    "    \n",
    "    return aa_record\n",
    "\n",
    "aa_records = [check_and_translate_tcr(rec) for rec in nt_records]\n",
    "SeqIO.write(aa_records, \"../data/10X-VDJ-summary.all_aa.fasta\", \"fasta\")"
   ]
  }
 ],
 "metadata": {
  "kernelspec": {
   "display_name": "Python 3",
   "language": "python",
   "name": "python3"
  },
  "language_info": {
   "codemirror_mode": {
    "name": "ipython",
    "version": 3
   },
   "file_extension": ".py",
   "mimetype": "text/x-python",
   "name": "python",
   "nbconvert_exporter": "python",
   "pygments_lexer": "ipython3",
   "version": "3.7.2"
  }
 },
 "nbformat": 4,
 "nbformat_minor": 2
}
